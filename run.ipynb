{
 "cells": [
  {
   "cell_type": "code",
   "execution_count": 1,
   "metadata": {},
   "outputs": [
    {
     "name": "stderr",
     "output_type": "stream",
     "text": [
      "c:\\Users\\qlee\\anaconda3\\envs\\deeplearning\\lib\\site-packages\\tqdm\\auto.py:21: TqdmWarning: IProgress not found. Please update jupyter and ipywidgets. See https://ipywidgets.readthedocs.io/en/stable/user_install.html\n",
      "  from .autonotebook import tqdm as notebook_tqdm\n"
     ]
    }
   ],
   "source": [
    "import common\n",
    "import sampler\n",
    "import glass\n",
    "import backbones\n",
    "import utils\n",
    "\n",
    "import os\n",
    "import random\n",
    "import numpy as np\n",
    "import pandas as pd\n",
    "import matplotlib.pyplot as plt\n",
    "import seaborn as sns\n",
    "import time\n",
    "\n",
    "import torch\n",
    "import torch.nn as nn\n",
    "from torch.nn import functional as F\n",
    "from torch.utils.data import Dataset, DataLoader\n",
    "import pytorch_lightning as pl\n",
    "\n",
    "from PIL import Image\n",
    "from torchvision import transforms\n",
    "\n",
    "import glob\n",
    "from tqdm import tqdm\n",
    "\n",
    "import warnings\n",
    "warnings.filterwarnings('ignore')"
   ]
  },
  {
   "cell_type": "code",
   "execution_count": 2,
   "metadata": {},
   "outputs": [
    {
     "name": "stderr",
     "output_type": "stream",
     "text": [
      "Seed set to 0\n"
     ]
    }
   ],
   "source": [
    "from argparse import ArgumentParser\n",
    "\n",
    "parser = ArgumentParser(description=\"patchcore\")\n",
    "parser.add_argument('--image_size', default=224, type=int) # 224\n",
    "parser.add_argument('--resize', default=256, type=int) # 256\n",
    "parser.add_argument('--backbone', default='wideresnet50', type=str) \n",
    "parser.add_argument('--layers_to_extract_from', nargs='+', default=['layer2', 'layer3'], type=str) # 연산량에 큰 영향을 주는 파라미터 (성능만 괜찮으면 layer를 일부 제거해도 무방)\n",
    "parser.add_argument('--pretrain_embed_dimension', default=1024, type=int)\n",
    "parser.add_argument('--target_embed_dimension', default=1024, type=int)\n",
    "parser.add_argument('--patchsize', default=3, type=int)\n",
    "parser.add_argument('--coreset_rate', default=0.1, type=float) # 연산량에 큰 영향을 주는 파라미터 (0.01 - 0.25)\n",
    "parser.add_argument('--anomaly_scorer_num_nn', default=1, type=int)\n",
    "parser.add_argument('--batch_size', default=2, type=int)\n",
    "parser.add_argument('--batch_size_inf', default=6, type=int) # 실제 capacitor cap 데이터의 열에 일치하도록 임의 설정\n",
    "parser.add_argument('--augment', default=True, type=bool)\n",
    "parser.add_argument('--seed', default=0, type=int) \n",
    "parser.add_argument('--device', nargs='+', default=[0], type=int)\n",
    "parser.add_argument('--num_workers', default=0, type=int)\n",
    "args = parser.parse_args('')\n",
    "\n",
    "image_size = args.image_size\n",
    "resize = args.resize\n",
    "BATCH_SIZE = args.batch_size\n",
    "BATCH_SIZE_INF = args.batch_size_inf\n",
    "SEED = args.seed\n",
    "\n",
    "# create save path\n",
    "save_root = \"saved\"\n",
    "if not os.path.exists(save_root):\n",
    "    os.mkdir(save_root)\n",
    "\n",
    "# set random seeds\n",
    "def set_seeds(seed=SEED):\n",
    "    np.random.seed(seed)\n",
    "    random.seed(seed)\n",
    "    torch.manual_seed(seed)\n",
    "    torch.cuda.manual_seed(seed)\n",
    "    torch.backends.cudnn.deterministic = True\n",
    "    torch.backends.cudnn.benchmark = False\n",
    "    pl.seed_everything(SEED)\n",
    "\n",
    "set_seeds()"
   ]
  },
  {
   "cell_type": "code",
   "execution_count": 3,
   "metadata": {},
   "outputs": [],
   "source": [
    "class AnomalyDataset(Dataset):\n",
    "    def __init__(self, transform=None, dir=\"../Data/mvtec/screw/train/good\", test=False):\n",
    "        super().__init__()\n",
    "        self.test = test        \n",
    "        self.transform = transform\n",
    "        self.list_dir = sorted(glob.glob(os.path.join(dir, \"*.png\")))\n",
    "        self.list_data = []\n",
    "        if test: self.list_original_data = []\n",
    "\n",
    "        for idx, dir in enumerate(self.list_dir):\n",
    "            x = Image.open(dir).convert(\"RGB\")\n",
    "            if test: self.list_original_data.append(x)\n",
    "            if self.transform: x = self.transform(x)\n",
    "            self.list_data.append(x)\n",
    "        \n",
    "        print(f\"num_data: {len(self.list_data)}\")\n",
    "\n",
    "    def __len__(self):\n",
    "        return len(self.list_dir)\n",
    "    \n",
    "    def __getitem__(self, idx):\n",
    "        x = self.list_data[idx]\n",
    "        return {\"image\": x}"
   ]
  },
  {
   "cell_type": "code",
   "execution_count": 4,
   "metadata": {},
   "outputs": [],
   "source": [
    "train_transform = transforms.Compose([\n",
    "    transforms.Resize(resize),\n",
    "    transforms.CenterCrop(image_size),\n",
    "    transforms.ToTensor(),\n",
    "    transforms.Normalize(mean=[0.485, 0.456, 0.406], std=[0.229, 0.224, 0.225]), # wideresnet50 모델 학습 시 활용된 정규화 값\n",
    "])\n",
    "\n",
    "test_transform = transforms.Compose([\n",
    "    transforms.Resize(resize),\n",
    "    transforms.CenterCrop(image_size),\n",
    "    transforms.ToTensor(),\n",
    "    transforms.Normalize(mean=[0.485, 0.456, 0.406], std=[0.229, 0.224, 0.225]), # wideresnet50 모델 학습 시 활용된 정규화 값\n",
    "])"
   ]
  },
  {
   "cell_type": "code",
   "execution_count": 5,
   "metadata": {},
   "outputs": [
    {
     "name": "stdout",
     "output_type": "stream",
     "text": [
      "num_data: 209\n",
      "num_data: 20\n"
     ]
    }
   ],
   "source": [
    "train_dataset = AnomalyDataset(dir=\"../Data/mvtec/bottle/train/good\", transform=train_transform)\n",
    "train_dataloader = DataLoader(train_dataset, \n",
    "                              batch_size=BATCH_SIZE, \n",
    "                              shuffle=False, \n",
    "                              num_workers=args.num_workers,\n",
    "                              pin_memory=True)\n",
    "\n",
    "valid_dataset = AnomalyDataset(dir=\"../Data/mvtec/bottle/test/good\", transform=test_transform)\n",
    "valid_dataloader = DataLoader(valid_dataset, \n",
    "                              batch_size=BATCH_SIZE, \n",
    "                              shuffle=False, \n",
    "                              num_workers=args.num_workers,\n",
    "                              pin_memory=True)"
   ]
  },
  {
   "cell_type": "code",
   "execution_count": 6,
   "metadata": {},
   "outputs": [],
   "source": [
    "device = utils.set_torch_device(gpu_ids=args.device)\n",
    "model = glass.GLASS(device)\n",
    "\n",
    "backbone = backbones.load(args.backbone)\n",
    "backbone.name, backbone.seed = args.backbone, None\n",
    "\n",
    "model.load(\n",
    "    backbone                 = backbone,\n",
    "    layers_to_extract_from   = args.layers_to_extract_from,\n",
    "    device                   = device,\n",
    "    input_shape              = (3, image_size, image_size),\n",
    "    pretrain_embed_dimension = args.pretrain_embed_dimension,\n",
    "    target_embed_dimension   = args.target_embed_dimension,\n",
    "    patchsize                = args.patchsize,\n",
    ")\n",
    "\n",
    "# 저장 경로 설정\n",
    "save_path = \"saved\"\n",
    "if not os.path.exists(save_path):\n",
    "    os.mkdir(save_path)\n",
    "\n",
    "models_dir = os.path.join(save_path, \"models\")\n",
    "model.set_model_dir(os.path.join(models_dir, f\"backbone\"))"
   ]
  },
  {
   "cell_type": "code",
   "execution_count": 7,
   "metadata": {},
   "outputs": [
    {
     "name": "stderr",
     "output_type": "stream",
     "text": [
      "  0%|          | 0/640 [00:01<?, ?epoch/s]\n"
     ]
    },
    {
     "ename": "KeyError",
     "evalue": "'aug'",
     "output_type": "error",
     "traceback": [
      "\u001b[1;31m---------------------------------------------------------------------------\u001b[0m",
      "\u001b[1;31mKeyError\u001b[0m                                  Traceback (most recent call last)",
      "Cell \u001b[1;32mIn[7], line 2\u001b[0m\n\u001b[0;32m      1\u001b[0m \u001b[38;5;66;03m# train\u001b[39;00m\n\u001b[1;32m----> 2\u001b[0m flag \u001b[38;5;241m=\u001b[39m \u001b[43mmodel\u001b[49m\u001b[38;5;241;43m.\u001b[39;49m\u001b[43mtrainer\u001b[49m\u001b[43m(\u001b[49m\u001b[43mtrain_dataloader\u001b[49m\u001b[43m,\u001b[49m\u001b[43m \u001b[49m\u001b[43mvalid_dataloader\u001b[49m\u001b[43m)\u001b[49m\n\u001b[0;32m      4\u001b[0m \u001b[38;5;66;03m# save model\u001b[39;00m\n\u001b[0;32m      5\u001b[0m model\u001b[38;5;241m.\u001b[39msave_to_path(save_path\u001b[38;5;241m=\u001b[39msave_root)\n",
      "File \u001b[1;32md:\\Dev\\GLASS\\glass.py:274\u001b[0m, in \u001b[0;36mGLASS.trainer\u001b[1;34m(self, training_data, val_data, name)\u001b[0m\n\u001b[0;32m    271\u001b[0m             \u001b[38;5;28mself\u001b[39m\u001b[38;5;241m.\u001b[39mc \u001b[38;5;241m+\u001b[39m\u001b[38;5;241m=\u001b[39m batch_mean\n\u001b[0;32m    272\u001b[0m     \u001b[38;5;28mself\u001b[39m\u001b[38;5;241m.\u001b[39mc \u001b[38;5;241m/\u001b[39m\u001b[38;5;241m=\u001b[39m \u001b[38;5;28mlen\u001b[39m(training_data)\n\u001b[1;32m--> 274\u001b[0m pbar_str, pt, pf \u001b[38;5;241m=\u001b[39m \u001b[38;5;28;43mself\u001b[39;49m\u001b[38;5;241;43m.\u001b[39;49m\u001b[43m_train_discriminator\u001b[49m\u001b[43m(\u001b[49m\u001b[43mtraining_data\u001b[49m\u001b[43m,\u001b[49m\u001b[43m \u001b[49m\u001b[43mi_epoch\u001b[49m\u001b[43m,\u001b[49m\u001b[43m \u001b[49m\u001b[43mpbar\u001b[49m\u001b[43m,\u001b[49m\u001b[43m \u001b[49m\u001b[43mpbar_str1\u001b[49m\u001b[43m)\u001b[49m\n\u001b[0;32m    275\u001b[0m update_state_dict()\n\u001b[0;32m    277\u001b[0m \u001b[38;5;28;01mif\u001b[39;00m (i_epoch \u001b[38;5;241m+\u001b[39m \u001b[38;5;241m1\u001b[39m) \u001b[38;5;241m%\u001b[39m \u001b[38;5;28mself\u001b[39m\u001b[38;5;241m.\u001b[39meval_epochs \u001b[38;5;241m==\u001b[39m \u001b[38;5;241m0\u001b[39m:\n",
      "File \u001b[1;32md:\\Dev\\GLASS\\glass.py:330\u001b[0m, in \u001b[0;36mGLASS._train_discriminator\u001b[1;34m(self, input_data, cur_epoch, pbar, pbar_str1)\u001b[0m\n\u001b[0;32m    327\u001b[0m \u001b[38;5;28;01mif\u001b[39;00m \u001b[38;5;28mself\u001b[39m\u001b[38;5;241m.\u001b[39mpre_proj \u001b[38;5;241m>\u001b[39m \u001b[38;5;241m0\u001b[39m:\n\u001b[0;32m    328\u001b[0m     \u001b[38;5;28mself\u001b[39m\u001b[38;5;241m.\u001b[39mproj_opt\u001b[38;5;241m.\u001b[39mzero_grad()\n\u001b[1;32m--> 330\u001b[0m aug \u001b[38;5;241m=\u001b[39m \u001b[43mdata_item\u001b[49m\u001b[43m[\u001b[49m\u001b[38;5;124;43m\"\u001b[39;49m\u001b[38;5;124;43maug\u001b[39;49m\u001b[38;5;124;43m\"\u001b[39;49m\u001b[43m]\u001b[49m\n\u001b[0;32m    331\u001b[0m aug \u001b[38;5;241m=\u001b[39m aug\u001b[38;5;241m.\u001b[39mto(torch\u001b[38;5;241m.\u001b[39mfloat)\u001b[38;5;241m.\u001b[39mto(\u001b[38;5;28mself\u001b[39m\u001b[38;5;241m.\u001b[39mdevice)\n\u001b[0;32m    332\u001b[0m img \u001b[38;5;241m=\u001b[39m data_item[\u001b[38;5;124m\"\u001b[39m\u001b[38;5;124mimage\u001b[39m\u001b[38;5;124m\"\u001b[39m]\n",
      "\u001b[1;31mKeyError\u001b[0m: 'aug'"
     ]
    }
   ],
   "source": [
    "# train\n",
    "flag = model.trainer(train_dataloader, valid_dataloader)\n",
    "\n",
    "# save model\n",
    "model.save_to_path(save_path=save_root)"
   ]
  },
  {
   "cell_type": "code",
   "execution_count": null,
   "metadata": {},
   "outputs": [],
   "source": [
    "# load model\n",
    "model.load_from_path(load_path=save_root, \n",
    "                          device=device, \n",
    "                          nn_method=common.FaissNN(on_gpu=True, num_workers=8))\n",
    "\n",
    "# validate -> threshold 설정을 위해 validation 수행\n",
    "scores, _ = model.predict(valid_dataloader)\n",
    "\n",
    "# set threshold\n",
    "threshold = np.max(scores)\n",
    "print(f\"threshold: {threshold}\")"
   ]
  },
  {
   "cell_type": "code",
   "execution_count": null,
   "metadata": {},
   "outputs": [],
   "source": [
    "\"\"\"\n",
    "fault classes\n",
    "screw: manipulated_front | scratch_head | scratch_neck | thread_side | thread_top\n",
    "bottle: broken_large | broken_small | contamination\n",
    "metal_nut: bent | color | flip | scratch\n",
    "\"\"\"\n",
    "test_dataset = AnomalyDataset(dir=\"../Data/mvtec/bottle/test/broken_large\", transform=test_transform, test=True)\n",
    "test_dataloader = DataLoader(test_dataset, \n",
    "                             batch_size=BATCH_SIZE_INF, \n",
    "                             shuffle=False, \n",
    "                             num_workers=args.num_workers,\n",
    "                             pin_memory=True)"
   ]
  },
  {
   "cell_type": "code",
   "execution_count": null,
   "metadata": {},
   "outputs": [],
   "source": [
    "scores_list = []\n",
    "seg_list = []\n",
    "\n",
    "# inference\n",
    "start = time.time()\n",
    "scores, seg = model.predict(test_dataloader)\n",
    "print(f\"Avg Prediction Time: {(time.time() - start) / (len(test_dataloader) * BATCH_SIZE_INF) :.6f}\")\n",
    "\n",
    "scores_list.append(scores)\n",
    "seg_list.append(seg)\n",
    "\n",
    "scores = np.max(scores_list, axis=0)\n",
    "prediction = np.where(scores < threshold, 0, 1)\n",
    "\n",
    "print(f\"n_anomaly: {np.sum(prediction)} / {scores.shape[-1]}\")"
   ]
  },
  {
   "cell_type": "code",
   "execution_count": null,
   "metadata": {},
   "outputs": [],
   "source": [
    "# scores = np.array(scores_list)\n",
    "# min_scores = scores.min(axis=-1).reshape(-1, 1)\n",
    "# max_scores = scores.max(axis=-1).reshape(-1, 1)\n",
    "# scores = (scores - min_scores) / (max_scores - min_scores)\n",
    "# scores = np.mean(scores, axis=0)\n",
    "\n",
    "segmentations = np.array(seg_list)\n",
    "min_scores = (segmentations.reshape(len(segmentations), -1).min(axis=-1).reshape(-1, 1, 1, 1))\n",
    "max_scores = (segmentations.reshape(len(segmentations), -1).max(axis=-1).reshape(-1, 1, 1, 1))\n",
    "segmentations = (segmentations - min_scores) / (max_scores - min_scores)\n",
    "segmentations = np.mean(segmentations, axis=0)\n",
    "\n",
    "# imgs = [np.transpose(x, (1, 2, 0)) for x in test_dataset.list_original_data]\n",
    "imgs = [x for x in test_dataset.list_original_data]"
   ]
  },
  {
   "cell_type": "code",
   "execution_count": null,
   "metadata": {},
   "outputs": [],
   "source": [
    "for idx in range(len(imgs)):\n",
    "    f, axes = plt.subplots(1, 2)\n",
    "    axes[0].imshow(imgs[idx])\n",
    "    axes[1].imshow(segmentations[idx])\n",
    "    f.tight_layout()"
   ]
  }
 ],
 "metadata": {
  "kernelspec": {
   "display_name": "deeplearning",
   "language": "python",
   "name": "python3"
  },
  "language_info": {
   "codemirror_mode": {
    "name": "ipython",
    "version": 3
   },
   "file_extension": ".py",
   "mimetype": "text/x-python",
   "name": "python",
   "nbconvert_exporter": "python",
   "pygments_lexer": "ipython3",
   "version": "3.8.19"
  }
 },
 "nbformat": 4,
 "nbformat_minor": 2
}
